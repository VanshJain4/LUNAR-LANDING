{
  "cells": [
    {
      "cell_type": "markdown",
      "metadata": {
        "id": "view-in-github",
        "colab_type": "text"
      },
      "source": [
        "<a href=\"https://colab.research.google.com/github/VanshJain4/LUNAR-LANDING/blob/main/Deep_Q_Learning_for_Lunar_Landing_1.ipynb\" target=\"_parent\"><img src=\"https://colab.research.google.com/assets/colab-badge.svg\" alt=\"Open In Colab\"/></a>"
      ]
    },
    {
      "cell_type": "markdown",
      "metadata": {
        "id": "LbZcI9ZXHl3a"
      },
      "source": [
        "# Deep Q-Learning for Lunar Landing"
      ]
    },
    {
      "cell_type": "markdown",
      "metadata": {
        "id": "E8yPRjteXgPb"
      },
      "source": [
        "## Part 0 - Installing the required packages and importing the libraries"
      ]
    },
    {
      "cell_type": "markdown",
      "metadata": {
        "id": "slEm5teGWjWU"
      },
      "source": [
        "### Installing Gymnasium"
      ]
    },
    {
      "cell_type": "code",
      "execution_count": 1,
      "metadata": {
        "id": "dbnq3XpoKa_7",
        "colab": {
          "base_uri": "https://localhost:8080/"
        },
        "collapsed": true,
        "outputId": "b2836d78-00ea-49da-d04e-6f12e3781be7"
      },
      "outputs": [
        {
          "output_type": "stream",
          "name": "stdout",
          "text": [
            "Requirement already satisfied: gymnasium in /usr/local/lib/python3.11/dist-packages (1.0.0)\n",
            "Requirement already satisfied: numpy>=1.21.0 in /usr/local/lib/python3.11/dist-packages (from gymnasium) (1.26.4)\n",
            "Requirement already satisfied: cloudpickle>=1.2.0 in /usr/local/lib/python3.11/dist-packages (from gymnasium) (3.1.1)\n",
            "Requirement already satisfied: typing-extensions>=4.3.0 in /usr/local/lib/python3.11/dist-packages (from gymnasium) (4.12.2)\n",
            "Requirement already satisfied: farama-notifications>=0.0.1 in /usr/local/lib/python3.11/dist-packages (from gymnasium) (0.0.4)\n",
            "Requirement already satisfied: gymnasium[accept-rom-license,atari] in /usr/local/lib/python3.11/dist-packages (1.0.0)\n",
            "\u001b[33mWARNING: gymnasium 1.0.0 does not provide the extra 'accept-rom-license'\u001b[0m\u001b[33m\n",
            "\u001b[0mRequirement already satisfied: numpy>=1.21.0 in /usr/local/lib/python3.11/dist-packages (from gymnasium[accept-rom-license,atari]) (1.26.4)\n",
            "Requirement already satisfied: cloudpickle>=1.2.0 in /usr/local/lib/python3.11/dist-packages (from gymnasium[accept-rom-license,atari]) (3.1.1)\n",
            "Requirement already satisfied: typing-extensions>=4.3.0 in /usr/local/lib/python3.11/dist-packages (from gymnasium[accept-rom-license,atari]) (4.12.2)\n",
            "Requirement already satisfied: farama-notifications>=0.0.1 in /usr/local/lib/python3.11/dist-packages (from gymnasium[accept-rom-license,atari]) (0.0.4)\n",
            "Requirement already satisfied: ale-py>=0.9 in /usr/local/lib/python3.11/dist-packages (from gymnasium[accept-rom-license,atari]) (0.10.1)\n",
            "Reading package lists... Done\n",
            "Building dependency tree... Done\n",
            "Reading state information... Done\n",
            "swig is already the newest version (4.0.2-1ubuntu1).\n",
            "0 upgraded, 0 newly installed, 0 to remove and 20 not upgraded.\n",
            "Requirement already satisfied: gymnasium[box2d] in /usr/local/lib/python3.11/dist-packages (1.0.0)\n",
            "Requirement already satisfied: numpy>=1.21.0 in /usr/local/lib/python3.11/dist-packages (from gymnasium[box2d]) (1.26.4)\n",
            "Requirement already satisfied: cloudpickle>=1.2.0 in /usr/local/lib/python3.11/dist-packages (from gymnasium[box2d]) (3.1.1)\n",
            "Requirement already satisfied: typing-extensions>=4.3.0 in /usr/local/lib/python3.11/dist-packages (from gymnasium[box2d]) (4.12.2)\n",
            "Requirement already satisfied: farama-notifications>=0.0.1 in /usr/local/lib/python3.11/dist-packages (from gymnasium[box2d]) (0.0.4)\n",
            "Requirement already satisfied: box2d-py==2.3.5 in /usr/local/lib/python3.11/dist-packages (from gymnasium[box2d]) (2.3.5)\n",
            "Requirement already satisfied: pygame>=2.1.3 in /usr/local/lib/python3.11/dist-packages (from gymnasium[box2d]) (2.6.1)\n",
            "Requirement already satisfied: swig==4.* in /usr/local/lib/python3.11/dist-packages (from gymnasium[box2d]) (4.3.0)\n"
          ]
        }
      ],
      "source": [
        "!pip install gymnasium\n",
        "!pip install \"gymnasium[atari, accept-rom-license]\"\n",
        "!apt-get install -y swig\n",
        "!pip install gymnasium[box2d]"
      ]
    },
    {
      "cell_type": "markdown",
      "metadata": {
        "id": "brqiMN3UW9T9"
      },
      "source": [
        "### Importing the libraries"
      ]
    },
    {
      "cell_type": "code",
      "execution_count": 16,
      "metadata": {
        "id": "mZaKXP_aMl9O"
      },
      "outputs": [],
      "source": [
        "import os\n",
        "import random\n",
        "import numpy as np\n",
        "import torch\n",
        "import torch.nn as nn\n",
        "import torch.optim as optim\n",
        "import torch.nn.functional as F\n",
        "import torch.autograd as autograd\n",
        "from torch.autograd import Variable\n",
        "from collections import deque, namedtuple"
      ]
    },
    {
      "cell_type": "markdown",
      "metadata": {
        "id": "EzlDKXvkXzGI"
      },
      "source": [
        "## Part 1 - Building the AI"
      ]
    },
    {
      "cell_type": "markdown",
      "metadata": {
        "id": "UtG6Zc83YYy3"
      },
      "source": [
        "### Creating the architecture of the Neural Network"
      ]
    },
    {
      "cell_type": "code",
      "source": [
        "class Network(nn.Module):\n",
        "\n",
        "  def __init__(self, state_size, action_size, seed = 42):\n",
        "    super(Network, self).__init__()\n",
        "    self.seed = torch.manual_seed(seed)\n",
        "    self.fc1 = nn.Linear(state_size, 64)\n",
        "    self.fc2 = nn.Linear(64, 64)\n",
        "    self.fc3 = nn.Linear(64, action_size)\n",
        "\n",
        "  def forward(self, state):\n",
        "    x = self.fc1(state)\n",
        "    x = F.relu(x)\n",
        "    x = self.fc2(x)\n",
        "    x = F.relu(x)\n",
        "    return self.fc3(x)"
      ],
      "metadata": {
        "id": "l2OZZ4z9bB3g"
      },
      "execution_count": 25,
      "outputs": []
    },
    {
      "cell_type": "markdown",
      "metadata": {
        "id": "UxVrBnFWZKb1"
      },
      "source": [
        "## Part 2 - Training the AI"
      ]
    },
    {
      "cell_type": "markdown",
      "metadata": {
        "id": "T364fz9qZb2j"
      },
      "source": [
        "### Setting up the environment"
      ]
    },
    {
      "cell_type": "code",
      "source": [
        "import gymnasium as gym\n",
        "env = gym.make('LunarLander-v3') # The Lunar Lander environment was upgraded to v3\n",
        "state_shape = env.observation_space.shape\n",
        "state_size = env.observation_space.shape[0]\n",
        "number_actions = env.action_space.n\n",
        "print('State shape: ', state_shape)\n",
        "print('State size: ', state_size)\n",
        "print('Number of actions: ', number_actions)"
      ],
      "metadata": {
        "id": "41sgnpCwtd5f",
        "colab": {
          "base_uri": "https://localhost:8080/"
        },
        "outputId": "d8cf6edc-e0aa-42d7-ed27-db37bf67e167"
      },
      "execution_count": 31,
      "outputs": [
        {
          "output_type": "stream",
          "name": "stdout",
          "text": [
            "State shape:  (8,)\n",
            "State size:  8\n",
            "Number of actions:  4\n"
          ]
        }
      ]
    },
    {
      "cell_type": "markdown",
      "metadata": {
        "id": "c_dZmOIvZgj-"
      },
      "source": [
        "### Initializing the hyperparameters"
      ]
    },
    {
      "cell_type": "code",
      "source": [
        "learning_rate = 5e-4\n",
        "minibatch_size = 100\n",
        "discount_factor = 0.99\n",
        "replay_buffer_size = int(1e5)\n",
        "interpolation_parameter = 1e-3"
      ],
      "metadata": {
        "id": "fxFLf_bZXYcY"
      },
      "execution_count": 32,
      "outputs": []
    },
    {
      "cell_type": "markdown",
      "metadata": {
        "id": "8hD_Vs-bYnip"
      },
      "source": [
        "### Implementing Experience Replay"
      ]
    },
    {
      "cell_type": "code",
      "source": [
        "class ReplayMemory(object):\n",
        "\n",
        "  def __init__(self, capacity):\n",
        "    self.device = torch.device(\"cuda:0\" if torch.cuda.is_available() else \"cpu\")\n",
        "    self.capacity = capacity\n",
        "    self.memory = []\n",
        "\n",
        "  def push(self, event):\n",
        "    self.memory.append(event)\n",
        "    if len(self.memory) > self.capacity:\n",
        "      del self.memory[0]\n",
        "\n",
        "  def sample(self, batch_size):\n",
        "    experiences = random.sample(self.memory, k = batch_size)\n",
        "    states = torch.from_numpy(np.vstack([e[0] for e in experiences if e is not None])).float().to(self.device)\n",
        "    actions = torch.from_numpy(np.vstack([e[1] for e in experiences if e is not None])).long().to(self.device)\n",
        "    rewards = torch.from_numpy(np.vstack([e[2] for e in experiences if e is not None])).float().to(self.device)\n",
        "    next_states = torch.from_numpy(np.vstack([e[3] for e in experiences if e is not None])).float().to(self.device)\n",
        "    dones = torch.from_numpy(np.vstack([e[4] for e in experiences if e is not None]).astype(np.uint8)).float().to(self.device)\n",
        "    return states, next_states, actions, rewards, dones"
      ],
      "metadata": {
        "id": "BtR5Pw3ObI8h"
      },
      "execution_count": 33,
      "outputs": []
    },
    {
      "cell_type": "markdown",
      "metadata": {
        "id": "JmEkbFbUY6Jt"
      },
      "source": [
        "### Implementing the DQN class"
      ]
    },
    {
      "cell_type": "code",
      "source": [
        "class Agent():\n",
        "\n",
        "  def __init__(self, state_size, action_size):\n",
        "    self.device = torch.device(\"cuda:0\" if torch.cuda.is_available() else \"cpu\")\n",
        "    self.state_size = state_size\n",
        "    self.action_size = action_size\n",
        "    self.local_qnetwork = Network(state_size, action_size).to(self.device)\n",
        "    self.target_qnetwork = Network(state_size, action_size).to(self.device)\n",
        "    self.optimizer = optim.Adam(self.local_qnetwork.parameters(), lr = learning_rate)\n",
        "    self.memory = ReplayMemory(replay_buffer_size)\n",
        "    self.t_step = 0\n",
        "\n",
        "  def step(self, state, action, reward, next_state, done):\n",
        "    self.memory.push((state, action, reward, next_state, done))\n",
        "    self.t_step = (self.t_step + 1) % 4\n",
        "    if self.t_step == 0:\n",
        "      if len(self.memory.memory) > minibatch_size:\n",
        "        experiences = self.memory.sample(100)\n",
        "        self.learn(experiences, discount_factor)\n",
        "\n",
        "  def act(self, state, epsilon = 0.):\n",
        "    state = torch.from_numpy(state).float().unsqueeze(0).to(self.device)\n",
        "    self.local_qnetwork.eval()\n",
        "    with torch.no_grad():\n",
        "      action_values = self.local_qnetwork(state)\n",
        "    self.local_qnetwork.train()\n",
        "    if random.random() > epsilon:\n",
        "      return np.argmax(action_values.cpu().data.numpy())\n",
        "    else:\n",
        "      return random.choice(np.arange(self.action_size))\n",
        "\n",
        "  def learn(self, experiences, discount_factor):\n",
        "    states, next_states, actions, rewards, dones = experiences\n",
        "    next_q_targets = self.target_qnetwork(next_states).detach().max(1)[0].unsqueeze(1)\n",
        "    q_targets = rewards + discount_factor * next_q_targets * (1 - dones)\n",
        "    q_expected = self.local_qnetwork(states).gather(1, actions)\n",
        "    loss = F.mse_loss(q_expected, q_targets)\n",
        "    self.optimizer.zero_grad()\n",
        "    loss.backward()\n",
        "    self.optimizer.step()\n",
        "    self.soft_update(self.local_qnetwork, self.target_qnetwork, interpolation_parameter)\n",
        "\n",
        "  def soft_update(self, local_model, target_model, interpolation_parameter):\n",
        "    for target_param, local_param in zip(target_model.parameters(), local_model.parameters()):\n",
        "      target_param.data.copy_(interpolation_parameter * local_param.data + (1.0 - interpolation_parameter) * target_param.data)"
      ],
      "metadata": {
        "id": "TEyqfOEIiJ-D"
      },
      "execution_count": 36,
      "outputs": []
    },
    {
      "cell_type": "markdown",
      "metadata": {
        "id": "o1tZElccZmf6"
      },
      "source": [
        "### Initializing the DQN agent"
      ]
    },
    {
      "cell_type": "code",
      "source": [
        "agent = Agent(state_size, number_actions)"
      ],
      "metadata": {
        "id": "cEeKGuRkgtWb"
      },
      "execution_count": 37,
      "outputs": []
    },
    {
      "cell_type": "markdown",
      "metadata": {
        "id": "E8v0PtUfaVQp"
      },
      "source": [
        "### Training the DQN agent"
      ]
    },
    {
      "cell_type": "code",
      "source": [
        "number_episodes = 2000\n",
        "maximum_number_timesteps_per_episode = 1000\n",
        "epsilon_starting_value  = 1.0\n",
        "epsilon_ending_value  = 0.01\n",
        "epsilon_decay_value  = 0.995\n",
        "epsilon = epsilon_starting_value\n",
        "scores_on_100_episodes = deque(maxlen = 100)\n",
        "\n",
        "for episode in range(1, number_episodes + 1):\n",
        "  state, _ = env.reset()\n",
        "  score = 0\n",
        "  for t in range(maximum_number_timesteps_per_episode):\n",
        "    action = agent.act(state, epsilon)\n",
        "    next_state, reward, done, _, _ = env.step(action)\n",
        "    agent.step(state, action, reward, next_state, done)\n",
        "    state = next_state\n",
        "    score += reward\n",
        "    if done:\n",
        "      break\n",
        "  scores_on_100_episodes.append(score)\n",
        "  epsilon = max(epsilon_ending_value, epsilon_decay_value * epsilon)\n",
        "  print('\\rEpisode {}\\tAverage Score: {:.2f}'.format(episode, np.mean(scores_on_100_episodes)), end = \"\")\n",
        "  if episode % 100 == 0:\n",
        "    print('\\rEpisode {}\\tAverage Score: {:.2f}'.format(episode, np.mean(scores_on_100_episodes)))\n",
        "  if np.mean(scores_on_100_episodes) >= 200.0:\n",
        "    print('\\nEnvironment solved in {:d} episodes!\\tAverage Score: {:.2f}'.format(episode - 100, np.mean(scores_on_100_episodes)))\n",
        "    torch.save(agent.local_qnetwork.state_dict(), 'checkpoint.pth')\n",
        "    break"
      ],
      "metadata": {
        "colab": {
          "base_uri": "https://localhost:8080/"
        },
        "id": "gg7u3GQ7g4kg",
        "outputId": "d25402f8-d401-4afe-8b4b-802750be6e83"
      },
      "execution_count": 39,
      "outputs": [
        {
          "output_type": "stream",
          "name": "stdout",
          "text": [
            "Episode 100\tAverage Score: -141.30\n",
            "Episode 200\tAverage Score: -114.81\n",
            "Episode 300\tAverage Score: -51.95\n",
            "Episode 400\tAverage Score: 12.22\n",
            "Episode 500\tAverage Score: 131.43\n",
            "Episode 600\tAverage Score: 160.56\n",
            "Episode 700\tAverage Score: 199.38\n",
            "Episode 701\tAverage Score: 201.50\n",
            "Environment solved in 601 episodes!\tAverage Score: 201.50\n"
          ]
        }
      ]
    },
    {
      "cell_type": "markdown",
      "metadata": {
        "id": "O8CNwdOTcCoP"
      },
      "source": [
        "## Part 3 - Visualizing the results"
      ]
    },
    {
      "cell_type": "code",
      "execution_count": 40,
      "metadata": {
        "id": "cb9nVvU2Okhk",
        "colab": {
          "base_uri": "https://localhost:8080/",
          "height": 458
        },
        "outputId": "fffb31d0-343a-418f-c1f8-79cbe832664f"
      },
      "outputs": [
        {
          "output_type": "stream",
          "name": "stderr",
          "text": [
            "WARNING:imageio_ffmpeg:IMAGEIO FFMPEG_WRITER WARNING: input image is not divisible by macro_block_size=16, resizing from (600, 400) to (608, 400) to ensure video compatibility with most codecs and players. To prevent resizing, make your input image divisible by the macro_block_size or set the macro_block_size to 1 (risking incompatibility).\n"
          ]
        },
        {
          "output_type": "display_data",
          "data": {
            "text/plain": [
              "<IPython.core.display.HTML object>"
            ],
            "text/html": [
              "<video alt=\"test\" autoplay\n",
              "                loop controls style=\"height: 400px;\">\n",
              "                <source src=\"data:video/mp4;base64,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\" type=\"video/mp4\" />\n",
              "             </video>"
            ]
          },
          "metadata": {}
        }
      ],
      "source": [
        "import glob\n",
        "import io\n",
        "import base64\n",
        "import imageio\n",
        "from IPython.display import HTML, display\n",
        "\n",
        "def show_video_of_model(agent, env_name):\n",
        "    env = gym.make(env_name, render_mode='rgb_array')\n",
        "    state, _ = env.reset()\n",
        "    done = False\n",
        "    frames = []\n",
        "    while not done:\n",
        "        frame = env.render()\n",
        "        frames.append(frame)\n",
        "        action = agent.act(state)\n",
        "        state, reward, done, _, _ = env.step(action.item())\n",
        "    env.close()\n",
        "    imageio.mimsave('video.mp4', frames, fps=30)\n",
        "\n",
        "show_video_of_model(agent, 'LunarLander-v3')\n",
        "\n",
        "def show_video():\n",
        "    mp4list = glob.glob('*.mp4')\n",
        "    if len(mp4list) > 0:\n",
        "        mp4 = mp4list[0]\n",
        "        video = io.open(mp4, 'r+b').read()\n",
        "        encoded = base64.b64encode(video)\n",
        "        display(HTML(data='''<video alt=\"test\" autoplay\n",
        "                loop controls style=\"height: 400px;\">\n",
        "                <source src=\"data:video/mp4;base64,{0}\" type=\"video/mp4\" />\n",
        "             </video>'''.format(encoded.decode('ascii'))))\n",
        "    else:\n",
        "        print(\"Could not find video\")\n",
        "\n",
        "show_video()"
      ]
    }
  ],
  "metadata": {
    "colab": {
      "provenance": [],
      "include_colab_link": true
    },
    "kernelspec": {
      "display_name": "Python 3",
      "name": "python3"
    },
    "language_info": {
      "name": "python"
    }
  },
  "nbformat": 4,
  "nbformat_minor": 0
}